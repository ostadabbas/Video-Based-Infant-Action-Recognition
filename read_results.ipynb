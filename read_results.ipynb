{
 "cells": [
  {
   "cell_type": "code",
   "execution_count": 2,
   "metadata": {},
   "outputs": [],
   "source": [
    "import numpy as np\n",
    "import os\n",
    "import os.path as osp\n",
    "import pandas as pd\n",
    "import glob\n",
    "import json\n",
    "import pickle"
   ]
  },
  {
   "cell_type": "code",
   "execution_count": 2,
   "metadata": {},
   "outputs": [],
   "source": [
    "results = {}\n",
    "\n",
    "POSEC3D_RES = sorted(glob.glob('./results/posec3d*'))\n",
    "for dir_ in POSEC3D_RES:\n",
    "    name = osp.basename(dir_)\n",
    "    res_dir = sorted(glob.glob(osp.join(dir_, '*/')))[-1]\n",
    "    res_file = glob.glob(osp.join(res_dir, '*.json'))[-1]\n",
    "    with open(res_file) as f:\n",
    "        res = json.load(f)\n",
    "    results[name] = res['acc/top1']\n",
    "\n",
    "STGCN_RES = sorted(glob.glob('./results/stgcn*'))\n",
    "for dir_ in STGCN_RES:\n",
    "    name = osp.basename(dir_)\n",
    "    res_dir = sorted(glob.glob(osp.join(dir_, '*/')))[-1]\n",
    "    res_file = glob.glob(osp.join(res_dir, '*.json'))[-1]\n",
    "    with open(res_file) as f:\n",
    "        res = json.load(f)\n",
    "    results[name] = res['acc/top1']\n",
    "\n",
    "STGCN_RES = sorted(glob.glob('./results/infogcn*'))\n",
    "for dir_ in STGCN_RES:\n",
    "    name = osp.basename(dir_)\n",
    "    res_file = glob.glob(osp.join(dir_, 'log.txt'))[-1]\n",
    "    with open(res_file) as f:\n",
    "        lines = f.readlines()\n",
    "    acc_line = [l for l in lines if 'Best accuracy:' in l][0].strip()\n",
    "    acc = float(acc_line.split(' ')[-1])\n",
    "    results[name] = acc"
   ]
  },
  {
   "cell_type": "code",
   "execution_count": 3,
   "metadata": {},
   "outputs": [
    {
     "data": {
      "text/plain": [
       "{'posec3d_infact_plus_2d_primitive': 0.7105263157894737,\n",
       " 'posec3d_infact_plus_2d_primitive_FT': 0.6973684210526315,\n",
       " 'posec3d_infact_plus_2d_transitional': 0.5,\n",
       " 'posec3d_infact_plus_2d_transitional_FT': 0.6875,\n",
       " 'stgcn_infact_plus_2d_primitive': 0.5657894736842105,\n",
       " 'stgcn_infact_plus_2d_primitive_FT': 0.618421052631579,\n",
       " 'stgcn_infact_plus_2d_transitional': 0.375,\n",
       " 'stgcn_infact_plus_2d_transitional_FT': 0.5625,\n",
       " 'stgcn_infact_plus_3d_primitive': 0.6710526315789473,\n",
       " 'stgcn_infact_plus_3d_primitive_FT': 0.6973684210526315,\n",
       " 'stgcn_infact_plus_3d_transitional': 0.5625,\n",
       " 'stgcn_infact_plus_3d_transitional_FT': 0.65625,\n",
       " 'infogcn_Data_InfAct_plus_2d_primitive_InfAct_plus': 0.6973684210526315,\n",
       " 'infogcn_Data_InfAct_plus_2d_primitive_InfAct_plus_FT': 0.6842105263157895,\n",
       " 'infogcn_Data_InfAct_plus_2d_transitional_InfAct_plus': 0.46875,\n",
       " 'infogcn_Data_InfAct_plus_2d_transitional_InfAct_plus_FT': 0.5,\n",
       " 'infogcn_Data_InfAct_plus_3d_primitive_InfAct_plus': 0.6973684210526315,\n",
       " 'infogcn_Data_InfAct_plus_3d_primitive_InfAct_plus_FT': 0.7368421052631579,\n",
       " 'infogcn_Data_InfAct_plus_3d_transitional_InfAct_plus': 0.4375,\n",
       " 'infogcn_Data_InfAct_plus_3d_transitional_InfAct_plus_FT': 0.625,\n",
       " 'infogcn_Data_NTU_ntu60_2d': 0.9136289197549584,\n",
       " 'infogcn_Data_NTU_ntu60_3d_h36m': 0.8496391096015042}"
      ]
     },
     "execution_count": 3,
     "metadata": {},
     "output_type": "execute_result"
    }
   ],
   "source": [
    "results"
   ]
  },
  {
   "cell_type": "code",
   "execution_count": 3,
   "metadata": {},
   "outputs": [],
   "source": [
    "def read_preds(pth):\n",
    "    with open(pth, 'rb') as f:\n",
    "        preds_file = pickle.load(f)\n",
    "\n",
    "    gts = np.array([i['gt_labels']['item'].item() for i in preds_file])\n",
    "    preds = np.array([i['pred_labels']['item'].item() for i in preds_file])\n",
    "\n",
    "    return gts, preds"
   ]
  },
  {
   "cell_type": "code",
   "execution_count": 4,
   "metadata": {},
   "outputs": [],
   "source": [
    "from sklearn.metrics import confusion_matrix, ConfusionMatrixDisplay\n",
    "import matplotlib.pyplot as plt\n",
    "POSTURE_LABEL2IDS = {'Supine': 0, 'Prone': 1, 'Sitting': 2, 'Standing': 3, 'All-fours': 4}\n",
    "POSTURE_IDS2LABEL = {v:k for k,v in POSTURE_LABEL2IDS.items()}\n",
    "\n",
    "def plot_cm(gts, preds, ax=None):\n",
    "    labels = list(POSTURE_IDS2LABEL.values())\n",
    "    cm = ConfusionMatrixDisplay.from_predictions(y_true=gts, y_pred=preds, normalize='true', display_labels=labels, ax=ax)\n",
    "    return cm"
   ]
  },
  {
   "cell_type": "code",
   "execution_count": 6,
   "metadata": {},
   "outputs": [],
   "source": [
    "MODEL = 'posec3d'\n",
    "DIM = '2d'\n",
    "FOLD = 'primitive'\n",
    "gts, preds = read_preds(f'./results_test/{MODEL}_infact_plus_{DIM}_{FOLD}/preds.pkl')\n",
    "\n",
    "with open(f'./results_test/{MODEL}_infact_plus_{DIM}_{FOLD}/preds.pkl', 'rb') as f:\n",
    "    a = pickle.load(f)"
   ]
  },
  {
   "cell_type": "code",
   "execution_count": 21,
   "metadata": {},
   "outputs": [
    {
     "data": {
      "text/plain": [
       "(512,)"
      ]
     },
     "execution_count": 21,
     "metadata": {},
     "output_type": "execute_result"
    }
   ],
   "source": [
    "a[0]['pred_feats']['item'].detach().numpy()"
   ]
  },
  {
   "cell_type": "code",
   "execution_count": 71,
   "metadata": {},
   "outputs": [
    {
     "data": {
      "text/plain": [
       "Text(0.5, 1.0, 'model: stgcn, dim: 3d, actions: primitive, accuracy: 45.39%')"
      ]
     },
     "execution_count": 71,
     "metadata": {},
     "output_type": "execute_result"
    },
    {
     "data": {
      "image/png": "[encoded data removed]",
      "text/plain": [
       "<Figure size 432x288 with 2 Axes>"
      ]
     },
     "metadata": {
      "needs_background": "light"
     },
     "output_type": "display_data"
    }
   ],
   "source": [
    "MODEL = 'stgcn'\n",
    "DIM = '3d'\n",
    "FOLD = 'primitive'\n",
    "gts, preds = read_preds(f'./results_test/{MODEL}_infact_plus_{DIM}_{FOLD}/preds.pkl')\n",
    "acc = sum(gts==preds)/len(preds)\n",
    "fig, ax = plt.subplots()\n",
    "plot_cm(gts, preds, ax)\n",
    "ax.set_title(f'model: {MODEL}, dim: {DIM}, actions: {FOLD}, accuracy: {acc*100:.2f}%')"
   ]
  },
  {
   "cell_type": "markdown",
   "metadata": {},
   "source": []
  }
 ],
 "metadata": {
  "kernelspec": {
   "display_name": "DeepLearning39",
   "language": "python",
   "name": "python3"
  },
  "language_info": {
   "codemirror_mode": {
    "name": "ipython",
    "version": 3
   },
   "file_extension": ".py",
   "mimetype": "text/x-python",
   "name": "python",
   "nbconvert_exporter": "python",
   "pygments_lexer": "ipython3",
   "version": "3.9.16"
  },
  "orig_nbformat": 4
 },
 "nbformat": 4,
 "nbformat_minor": 2
}
