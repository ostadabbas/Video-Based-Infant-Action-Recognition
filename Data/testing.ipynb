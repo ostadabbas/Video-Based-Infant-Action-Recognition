{
 "cells": [
  {
   "cell_type": "code",
   "execution_count": 20,
   "metadata": {},
   "outputs": [],
   "source": [
    "import numpy as np\n",
    "import pickle\n",
    "import PIL.Image as pimage\n",
    "import cv2\n",
    "import glob\n",
    "import json\n",
    "import os\n",
    "import math\n",
    "\n",
    "IMG_SHAPES = (1080,1920)\n",
    "import os.path as osp"
   ]
  },
  {
   "cell_type": "code",
   "execution_count": 29,
   "metadata": {},
   "outputs": [
    {
     "data": {
      "text/plain": [
       "array(['All-fours', 'Prone', 'Sitting', 'Standing', 'Supine'], dtype='<U9')"
      ]
     },
     "execution_count": 29,
     "metadata": {},
     "output_type": "execute_result"
    }
   ],
   "source": [
    "with open('./InfAct_plus/2d/primitive/InfAct_plus.pkl', 'rb') as f:\n",
    "    a = pickle.load(f)\n",
    "np.unique([item['pos_label'] for item in a['annotations']])\n",
    "#a['annotations'][0].keys()"
   ]
  },
  {
   "cell_type": "code",
   "execution_count": 12,
   "metadata": {},
   "outputs": [
    {
     "name": "stdout",
     "output_type": "stream",
     "text": [
      "D01_Supine_23\n",
      "23 23\n",
      "D01_Prone_75\n",
      "75 75\n",
      "D05_Supine_0\n",
      "0 0\n",
      "D05_Prone_45\n",
      "45 45\n",
      "D08_Supine_0\n",
      "0 0\n",
      "D08_Prone_30\n",
      "30 30\n",
      "D09_Supine_45\n",
      "45 45\n",
      "D09_Prone_28\n",
      "28 28\n"
     ]
    }
   ],
   "source": [
    "WO_ANN_SUBJECTS = ['D01', 'D05', 'D08', 'D09']\n",
    "PRIM_POSES = ['Supine', 'Prone']\n",
    "for SUBJECT in WO_ANN_SUBJECTS:\n",
    "    pos_dicts = {}\n",
    "    MAIN_DIR = f'./{SUBJECT}/freeplay/'\n",
    "\n",
    "    name_map_file = glob.glob(osp.join(MAIN_DIR, '*.txt'))[0]\n",
    "    with open(name_map_file) as f:\n",
    "        lines = f.readlines()\n",
    "    name_map = {i+1: l.strip() for i, l in enumerate(lines)}\n",
    "\n",
    "    for POS in PRIM_POSES:\n",
    "        pos_dir = osp.join(MAIN_DIR, f'pose_3d_res/{POS}')\n",
    "        skes_dirs = sorted(glob.glob(osp.join(pos_dir, '*/')), key= lambda x: int(x.split(os.sep)[-2]))\n",
    "        print(f\"{SUBJECT}_{POS}_{len(skes_dirs)}\")\n",
    "        print(len(skes_dirs), len([k for k in name_map.values() if k[0].lower()==POS[0].lower()]))\n",
    "        assert len(skes_dirs)==len([k for k in name_map.values() if k[0].lower()==POS[0].lower()])\n",
    "\n",
    "        for i, skes_dir in enumerate(skes_dirs):\n",
    "            vid_num = int(skes_dir.split(os.sep)[-2])\n",
    "            vid_name = name_map[vid_num]\n",
    "\n",
    "            skes_file_pth = glob.glob(osp.join(skes_dir, 'eval_rst.npz'))[0]\n",
    "            skes_file = np.load(skes_file_pth)\n",
    "\n",
    "            total_frames = skes_file['pred_joints'].shape[0]\n",
    "            skels_and_scores = skes_file['pred_joints']\n",
    "\n",
    "            posture = {\n",
    "                'pos_number': vid_num,\n",
    "                'start_frame' : 0,\n",
    "                'end_frame' : total_frames,\n",
    "                'frame_dir': f\"{SUBJECT}_{vid_name}_0\",\n",
    "                'total_frames' : total_frames,\n",
    "                'img_shape': IMG_SHAPES,\n",
    "                'original_shape': IMG_SHAPES,\n",
    "                'pos_label' : POS,\n",
    "                'source': f\"CAREER_{SUBJECT}\",\n",
    "                'keypoint': skels_and_scores,\n",
    "                'keypoint_score': np.ones_like(skels_and_scores[:,:2])[...,1]\n",
    "            }\n",
    "            pos_dicts[vid_name] = [posture]"
   ]
  },
  {
   "cell_type": "code",
   "execution_count": 8,
   "metadata": {},
   "outputs": [
    {
     "data": {
      "text/plain": [
       "(101, 17, 3)"
      ]
     },
     "execution_count": 8,
     "metadata": {},
     "output_type": "execute_result"
    }
   ],
   "source": [
    "skes_file['pred_joints']"
   ]
  },
  {
   "cell_type": "code",
   "execution_count": null,
   "metadata": {},
   "outputs": [],
   "source": [
    "f = np.load('./D01/freeplay/pose_3d_res/Supine/76/eval_rst.npz')\n",
    "list(f.keys())"
   ]
  },
  {
   "cell_type": "code",
   "execution_count": null,
   "metadata": {},
   "outputs": [],
   "source": [
    "np.load(skes_file_pth)"
   ]
  },
  {
   "cell_type": "code",
   "execution_count": null,
   "metadata": {},
   "outputs": [],
   "source": []
  },
  {
   "cell_type": "code",
   "execution_count": null,
   "metadata": {},
   "outputs": [],
   "source": [
    "a = 'SALAM'\n",
    "a[0].lower()"
   ]
  },
  {
   "cell_type": "code",
   "execution_count": null,
   "metadata": {},
   "outputs": [],
   "source": [
    "with open('./NTU/ntu60_2d.pkl', 'rb') as f:\n",
    "    a = pickle.load(f)\n",
    "l = []\n",
    "for item in a['annotations']:\n",
    "    l.extend(item['keypoint'].flatten())"
   ]
  },
  {
   "cell_type": "code",
   "execution_count": null,
   "metadata": {},
   "outputs": [],
   "source": [
    "np.min(l)"
   ]
  },
  {
   "cell_type": "code",
   "execution_count": null,
   "metadata": {},
   "outputs": [],
   "source": [
    "a = '../../InfAct_plus/3d/primitive/InfAct_plus.pkl'\n",
    "path2name = lambda x: '_'.join([c for c in os.path.splitext(x)[0].split(os.sep) if '.' not in c])\n",
    "path2name(a)"
   ]
  },
  {
   "cell_type": "code",
   "execution_count": null,
   "metadata": {},
   "outputs": [],
   "source": [
    "with open('./InfAct_plus/3d/primitive/InfAct_plus.pkl', 'rb') as f:\n",
    "    a = pickle.load(f)\n",
    "a['annotations'][0].keys()"
   ]
  },
  {
   "cell_type": "code",
   "execution_count": null,
   "metadata": {},
   "outputs": [],
   "source": [
    "f_2d[100]['image_id']"
   ]
  },
  {
   "cell_type": "code",
   "execution_count": null,
   "metadata": {},
   "outputs": [],
   "source": [
    "list(f_3d.keys())"
   ]
  },
  {
   "cell_type": "code",
   "execution_count": null,
   "metadata": {},
   "outputs": [],
   "source": [
    "import torch\n",
    "import torchvision\n",
    "from torchvision.models.detection import MaskRCNN, maskrcnn_resnet50_fpn"
   ]
  },
  {
   "cell_type": "code",
   "execution_count": null,
   "metadata": {},
   "outputs": [],
   "source": [
    "IM_DIR = glob.glob('./D02/freeplay/*mp4')\n",
    "IM_DIR\n",
    "\n",
    "cap = cv2.VideoCapture(IM_DIR[1])\n",
    "if (cap.isOpened()== False): \n",
    "  print(\"Error opening video stream or file\")\n",
    "frames = []\n",
    "c=0\n",
    "while(cap.isOpened()):\n",
    "  ret, frame = cap.read()\n",
    "  c+=1\n",
    "  if c<1000:\n",
    "    continue\n",
    "  frames.append(cv2.cvtColor(frame, cv2.COLOR_BGR2RGB))\n",
    "  if len(frames)>=10:\n",
    "    break\n",
    "cap.release()"
   ]
  },
  {
   "cell_type": "code",
   "execution_count": null,
   "metadata": {},
   "outputs": [],
   "source": [
    "m_rcnn = maskrcnn_resnet50_fpn()\n",
    "m_rcnn.eval()\n",
    "img = torch.from_numpy(frames[0]).permute(2,0,1)[None]\n",
    "m_rcnn(img)"
   ]
  },
  {
   "cell_type": "code",
   "execution_count": null,
   "metadata": {},
   "outputs": [],
   "source": [
    "with open('./D02/freeplay/pose_2d_res/nooie_20230129-161044@300200-trimmed_6/keypoints_validate_infant_results_0.json') as f:\n",
    "    kp_val = json.load(f)\n",
    "eval_rst = np.load('./D02/freeplay/pose_3d_res/nooie_20230129-161044@300200-trimmed_6/eval_rst.npz')\n",
    "for k, v in eval_rst.items():\n",
    "    print(f\"shape of {k} is {v.shape}\")\n",
    "\n",
    "eval_rst = np.load('./D02/freeplay/pose_3d_res/nooie_20230129-161044@300200-trimmed_6/output_pose_3D.npy')\n",
    "eval_rst.shape"
   ]
  },
  {
   "cell_type": "code",
   "execution_count": null,
   "metadata": {},
   "outputs": [],
   "source": [
    "np.array(kp_val[0]['keypoints']).reshape(-1,3).shape"
   ]
  },
  {
   "cell_type": "code",
   "execution_count": null,
   "metadata": {},
   "outputs": [],
   "source": []
  },
  {
   "cell_type": "code",
   "execution_count": null,
   "metadata": {},
   "outputs": [],
   "source": [
    "cap = cv2.VideoCapture(IM_DIR[1])\n",
    "if (cap.isOpened()== False): \n",
    "  print(\"Error opening video stream or file\")\n",
    "frames = []\n",
    "c=0\n",
    "while(cap.isOpened()):\n",
    "  ret, frame = cap.read()\n",
    "  c+=1\n",
    "  if c<1000:\n",
    "    continue\n",
    "  frames.append(cv2.cvtColor(frame, cv2.COLOR_BGR2RGB))\n",
    "  if len(frames)>=10:\n",
    "    break\n",
    "cap.release()\n"
   ]
  },
  {
   "cell_type": "code",
   "execution_count": null,
   "metadata": {},
   "outputs": [],
   "source": [
    "frames[0].shape"
   ]
  },
  {
   "cell_type": "code",
   "execution_count": null,
   "metadata": {},
   "outputs": [],
   "source": [
    "with open('./NTU/ntu60_2d.pkl', 'rb') as f:\n",
    "    a = pickle.load(f)\n",
    "\n",
    "with open('./InfAct_plus/InfAct_plus.pkl', 'rb') as f:\n",
    "    b = pickle.load(f)"
   ]
  },
  {
   "cell_type": "code",
   "execution_count": null,
   "metadata": {},
   "outputs": [],
   "source": [
    "b['split']['train'][0]"
   ]
  },
  {
   "cell_type": "code",
   "execution_count": null,
   "metadata": {},
   "outputs": [],
   "source": [
    "for c in b['annotations']:\n",
    "    if c['keypoint_score'].shape[-1]==2:\n",
    "        print(c['keypoint_score'].shape)"
   ]
  },
  {
   "cell_type": "code",
   "execution_count": null,
   "metadata": {},
   "outputs": [],
   "source": [
    "assert False"
   ]
  },
  {
   "cell_type": "code",
   "execution_count": null,
   "metadata": {},
   "outputs": [],
   "source": []
  },
  {
   "cell_type": "code",
   "execution_count": null,
   "metadata": {},
   "outputs": [],
   "source": [
    "#with open('./NTU/ntu60_2d.pkl', 'rb') as f:\n",
    "#    ntu60_sample = pickle.load(f)\n",
    "ntu60_sample['annotations'][0].keys()"
   ]
  },
  {
   "cell_type": "code",
   "execution_count": null,
   "metadata": {},
   "outputs": [],
   "source": [
    "with open('./InfAct_plus/InfAct_plus_2d_xsub_train.pkl', 'rb') as f:\n",
    "    infact_plus_sample = pickle.load(f)\n",
    "\n",
    "with open('./NTU/ntu60_2d_xsub_train.pkl', 'rb') as f:\n",
    "    ntu60_sample = pickle.load(f)"
   ]
  },
  {
   "cell_type": "code",
   "execution_count": null,
   "metadata": {},
   "outputs": [],
   "source": [
    "infact_plus_sample[0]['skeleton'].shape"
   ]
  },
  {
   "cell_type": "code",
   "execution_count": null,
   "metadata": {},
   "outputs": [],
   "source": [
    "ntu60_sample[0]"
   ]
  }
 ],
 "metadata": {
  "kernelspec": {
   "display_name": "DeepLearning39",
   "language": "python",
   "name": "python3"
  },
  "language_info": {
   "codemirror_mode": {
    "name": "ipython",
    "version": 3
   },
   "file_extension": ".py",
   "mimetype": "text/x-python",
   "name": "python",
   "nbconvert_exporter": "python",
   "pygments_lexer": "ipython3",
   "version": "3.9.16"
  },
  "orig_nbformat": 4
 },
 "nbformat": 4,
 "nbformat_minor": 2
}
