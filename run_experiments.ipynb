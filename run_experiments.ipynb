{
 "cells": [
  {
   "cell_type": "code",
   "execution_count": null,
   "metadata": {},
   "outputs": [],
   "source": [
    "%cd ~/InfantActionPaper\n",
    "%cd mmaction2\n",
    "!python tools/train.py configs/skeleton/posec3d/posec3d_infact_plus_2d_primitive.py --work-dir ../results/posec3d_infact_plus_2d_primitive\n",
    "!python tools/train.py configs/skeleton/posec3d/posec3d_infact_plus_2d_primitive_FT.py --work-dir ../results/posec3d_infact_plus_2d_primitive_FT\n",
    "\n",
    "!python tools/train.py configs/skeleton/posec3d/posec3d_infact_plus_2d_transitional.py --work-dir ../results/posec3d_infact_plus_2d_transitional\n",
    "!python tools/train.py configs/skeleton/posec3d/posec3d_infact_plus_2d_transitional_FT.py --work-dir ../results/posec3d_infact_plus_2d_transitional_FT"
   ]
  },
  {
   "cell_type": "code",
   "execution_count": 2,
   "metadata": {},
   "outputs": [
    {
     "name": "stdout",
     "output_type": "stream",
     "text": [
      "/home/daneshvarkakhakip/anaconda3/envs/DeepLearning39/bin/python\n"
     ]
    }
   ],
   "source": [
    "%cd ~/InfantActionPaper\n",
    "%cd mmaction2\n",
    "!python tools/train.py configs/skeleton/stgcn/stgcn_infact_plus_2d_primitive.py --work-dir ../results/stgcn_infact_plus_2d_primitive\n",
    "!python tools/train.py configs/skeleton/stgcn/stgcn_infact_plus_2d_primitive_FT.py --work-dir ../results/stgcn_infact_plus_2d_primitive_FT\n",
    "\n",
    "!python tools/train.py configs/skeleton/stgcn/stgcn_infact_plus_2d_transitional.py --work-dir ../results/stgcn_infact_plus_2d_transitional\n",
    "!python tools/train.py configs/skeleton/stgcn/stgcn_infact_plus_2d_transitional_FT.py --work-dir ../results/stgcn_infact_plus_2d_transitional_FT\n",
    "\n",
    "!python tools/train.py configs/skeleton/stgcn/stgcn_infact_plus_3d_primitive.py --work-dir ../results/stgcn_infact_plus_3d_primitive\n",
    "!python tools/train.py configs/skeleton/stgcn/stgcn_infact_plus_3d_primitive_FT.py --work-dir ../results/stgcn_infact_plus_3d_primitive_FT\n",
    "\n",
    "!python tools/train.py configs/skeleton/stgcn/stgcn_infact_plus_3d_transitional.py --work-dir ../results/stgcn_infact_plus_3d_transitional\n",
    "!python tools/train.py configs/skeleton/stgcn/stgcn_infact_plus_3d_transitional_FT.py --work-dir ../results/stgcn_infact_plus_3d_transitional_FT\n"
   ]
  },
  {
   "cell_type": "code",
   "execution_count": null,
   "metadata": {},
   "outputs": [],
   "source": [
    "!python main.py --half=True --batch_size=128 --test_batch_size=128 --step 90 100 --num_epoch=110 --n_heads=3 --num_worker=4 --k=1 --num_class=60 --lambda_1=1e-4 --lambda_2=1e-1 --z_prior_gain=3 --use_vel=False --weight_decay=0.0005 --num_point=17 --graph=graph.graph_h36m_3d.Graph --feeder=feeders.feeder_h36m_3d.Feeder --output_dir ../results/test"
   ]
  },
  {
   "cell_type": "code",
   "execution_count": null,
   "metadata": {},
   "outputs": [],
   "source": [
    "%cd ~/InfantActionPaper\n",
    "%cd mmaction2\n",
    "!python tools/train.py configs/skeleton/stgcn/stgcn_8xb16-joint-u100-80e_ntu60-xsub-keypoint-3d-converted.py.py --work-dir ../results/stgcn_8xb16-joint-u100-80e_ntu60-xsub-keypoint-3d-converted.py\n",
    "\n",
    "!python tools/train.py configs/skeleton/stgcn/stgcn_infact_plus_3d_primitive.py --work-dir ../results/stgcn_infact_plus_3d_primitive\n",
    "!python tools/train.py configs/skeleton/stgcn/stgcn_infact_plus_3d_transitional.py --work-dir ../results/stgcn_infact_plus_3d_transitional"
   ]
  },
  {
   "attachments": {},
   "cell_type": "markdown",
   "metadata": {},
   "source": [
    "Data/InfAct_plus/2d/primitive/InfAct_plus.pkl\n",
    "\n",
    "load_from = './cpts/stgcn_8xb16-joint-u100-80e_ntu60-xsub-keypoint-2d_20221129-484a394a.pth'"
   ]
  }
 ],
 "metadata": {
  "kernelspec": {
   "display_name": "DeepLearning39",
   "language": "python",
   "name": "python3"
  },
  "language_info": {
   "codemirror_mode": {
    "name": "ipython",
    "version": 3
   },
   "file_extension": ".py",
   "mimetype": "text/x-python",
   "name": "python",
   "nbconvert_exporter": "python",
   "pygments_lexer": "ipython3",
   "version": "3.9.16"
  },
  "orig_nbformat": 4
 },
 "nbformat": 4,
 "nbformat_minor": 2
}
